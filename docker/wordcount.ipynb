{
 "metadata": {
  "name": "",
  "signature": "sha256:4bea1ff29b68f003c13282155970ba90a5a5f5d126936fbea014b9673fcddba0"
 },
 "nbformat": 3,
 "nbformat_minor": 0,
 "worksheets": [
  {
   "cells": [
    {
     "cell_type": "markdown",
     "metadata": {},
     "source": [
      "# Wordcount example\n",
      "\n",
      "This exercise uses a simple example to demonstrate how virtual environments can be used to facilitate reproducible research.\n",
      "\n",
      "We are running the wordcount code used in previous exercises in a virtual environment with the help of [Docker](https://www.docker.com/)."
     ]
    },
    {
     "cell_type": "markdown",
     "metadata": {},
     "source": [
      "## 1. Download a book\n",
      "\n",
      "First, we'll download a book from [Project Gutenberg](http://www.gutenberg.org/browse/scores/top)."
     ]
    },
    {
     "cell_type": "code",
     "collapsed": false,
     "input": [
      "!wget http://www.gutenberg.org/files/174/174.zip -O dorian.zip"
     ],
     "language": "python",
     "metadata": {},
     "outputs": [
      {
       "output_type": "stream",
       "stream": "stdout",
       "text": [
        "--2015-03-24 13:55:03--  http://www.gutenberg.org/files/174/174.zip\r\n",
        "Resolving www.gutenberg.org... 152.19.134.47\r\n",
        "Connecting to www.gutenberg.org|152.19.134.47|:80... connected.\r\n",
        "HTTP request sent, awaiting response... "
       ]
      },
      {
       "output_type": "stream",
       "stream": "stdout",
       "text": [
        "200 OK\r\n",
        "Length: 175175 (171K) [application/zip]\r\n",
        "Saving to: 'dorian.zip'\r\n",
        "\r\n",
        "\r",
        "dorian.zip            0%[                      ]       0  --.-KB/s             \r",
        "dorian.zip          100%[=====================>] 171.07K  --.-KB/s   in 0.001s \r\n",
        "\r\n",
        "2015-03-24 13:55:04 (144 MB/s) - 'dorian.zip' saved [175175/175175]\r\n",
        "\r\n"
       ]
      }
     ],
     "prompt_number": 1
    },
    {
     "cell_type": "markdown",
     "metadata": {},
     "source": [
      "## 2. Review the text"
     ]
    },
    {
     "cell_type": "code",
     "collapsed": false,
     "input": [
      "!unzip dorian.zip\n",
      "!mv 174.txt dorian.txt\n",
      "!head dorian.txt"
     ],
     "language": "python",
     "metadata": {},
     "outputs": [
      {
       "output_type": "stream",
       "stream": "stdout",
       "text": [
        "Archive:  dorian.zip\r\n",
        "  inflating: 174.txt                 \r\n"
       ]
      },
      {
       "output_type": "stream",
       "stream": "stdout",
       "text": [
        "The Project Gutenberg EBook of The Picture of Dorian Gray, by Oscar Wilde\r",
        "\r\n",
        "\r",
        "\r\n",
        "This eBook is for the use of anyone anywhere at no cost and with\r",
        "\r\n",
        "almost no restrictions whatsoever.  You may copy it, give it away or\r",
        "\r\n",
        "re-use it under the terms of the Project Gutenberg License included\r",
        "\r\n",
        "with this eBook or online at www.gutenberg.net\r",
        "\r\n",
        "\r",
        "\r\n",
        "\r",
        "\r\n",
        "Title: The Picture of Dorian Gray\r",
        "\r\n",
        "\r",
        "\r\n"
       ]
      }
     ],
     "prompt_number": 2
    },
    {
     "cell_type": "markdown",
     "metadata": {},
     "source": [
      "## 3. Review the wordcount script\n",
      "\n",
      "The commands used to carry out the analysis are contained within the countwords script:\n"
     ]
    },
    {
     "cell_type": "code",
     "collapsed": false,
     "input": [
      "!cat countwords"
     ],
     "language": "python",
     "metadata": {},
     "outputs": [
      {
       "output_type": "stream",
       "stream": "stdout",
       "text": [
        "#!/bin/sh\r\n",
        "# Script that counts the number of words in a book\r\n",
        "\r\n",
        "# Has a filename for the book been provided?\r\n",
        "thebook=\"$1\"\r\n",
        "if [ -z \"$thebook\" ] ; then\r\n",
        "    echo \"Please provide the filename of the book.\"\r\n",
        "    exit 1\r\n",
        "elif [ ! -f \"$thebook\" ] ; then\r\n",
        "    echo \"$thebook was not found.\"\r\n",
        "    exit 1\r\n",
        "fi\r\n",
        "\r\n",
        "# Create output directory\r\n",
        "mkdir -p \"output\"\r\n",
        "\r\n",
        "# Count the words and output the results\r\n",
        "OUTPUTFILE=\"output/wordcount.txt\"\r\n",
        "cat $thebook | ./mapper.py | sort | ./reducer.py > $OUTPUTFILE\r\n",
        "echo \"Word count saved as $OUTPUTFILE\" \r\n",
        "\r\n"
       ]
      }
     ],
     "prompt_number": 139
    },
    {
     "cell_type": "markdown",
     "metadata": {},
     "source": [
      "## 4. Run the analysis"
     ]
    },
    {
     "cell_type": "code",
     "collapsed": false,
     "input": [
      "!./countwords dorian.txt"
     ],
     "language": "python",
     "metadata": {},
     "outputs": [
      {
       "output_type": "stream",
       "stream": "stdout",
       "text": [
        "Word count saved as output/wordcount.txt\r\n"
       ]
      }
     ],
     "prompt_number": 140
    },
    {
     "cell_type": "code",
     "collapsed": false,
     "input": [
      "!head output/wordcount.txt"
     ],
     "language": "python",
     "metadata": {},
     "outputs": [
      {
       "output_type": "stream",
       "stream": "stdout",
       "text": [
        "td \t180\r\n",
        "class \t125\r\n",
        "span \t100\r\n",
        "tr \t90\r\n",
        "a \t90\r\n",
        "th \t72\r\n",
        "div \t68\r\n",
        "icon \t63\r\n",
        "en \t55\r\n",
        "gutenberg \t54\r\n"
       ]
      }
     ],
     "prompt_number": 141
    },
    {
     "cell_type": "markdown",
     "metadata": {},
     "source": [
      "## 5. Plot the results\n",
      "\n",
      "Plot and save a histogram showing the frequency of occurrence of the n most popular words."
     ]
    },
    {
     "cell_type": "code",
     "collapsed": false,
     "input": [
      "# Load the plotting library\n",
      "import matplotlib.pyplot as plt\n",
      "%matplotlib inline\n",
      "\n",
      "# Open the file\n",
      "filename = \"output/wordcount.txt\"\n",
      "f = open(filename, 'r')\n",
      "\n",
      "# Create lists to hold X and Y data\n",
      "wordlist = []\n",
      "frequency = []"
     ],
     "language": "python",
     "metadata": {},
     "outputs": [],
     "prompt_number": 142
    },
    {
     "cell_type": "code",
     "collapsed": false,
     "input": [
      "for line in f:\n",
      "    line = line.split()\n",
      "    wordlist.append(line[0])\n",
      "    frequency.append(int(line[1]))"
     ],
     "language": "python",
     "metadata": {},
     "outputs": [],
     "prompt_number": 143
    },
    {
     "cell_type": "code",
     "collapsed": false,
     "input": [
      "# Snip the lists to the first ten items\n",
      "n_words = 10\n",
      "wordlist = wordlist[:n_words+1]\n",
      "frequency = frequency[:n_words+1]\n",
      "\n",
      "# Check lists by printing them\n",
      "print wordlist\n",
      "print frequency"
     ],
     "language": "python",
     "metadata": {},
     "outputs": [
      {
       "output_type": "stream",
       "stream": "stdout",
       "text": [
        "['td', 'class', 'span', 'tr', 'a', 'th', 'div', 'icon', 'en', 'gutenberg', 'href']\n",
        "[180, 125, 100, 90, 90, 72, 68, 63, 55, 54, 51]\n"
       ]
      }
     ],
     "prompt_number": 144
    },
    {
     "cell_type": "code",
     "collapsed": false,
     "input": [
      "bookname = \"Dorian Gray\"\n",
      "plt.barh(range(len(frequency)),frequency,align='center')\n",
      "plt.title('Top ' + str(n_words) + ' words in ' + bookname)\n",
      "plt.xlabel('Word frequency')\n",
      "plt.yticks(range(len(frequency)),wordlist)\n",
      "plt.show()"
     ],
     "language": "python",
     "metadata": {},
     "outputs": [
      {
       "metadata": {},
       "output_type": "display_data",
       "png": "[encoded data removed]",
       "text": [
        "<matplotlib.figure.Figure at 0x10ce16fd0>"
       ]
      }
     ],
     "prompt_number": 152
    },
    {
     "cell_type": "code",
     "collapsed": false,
     "input": [
      "plt.savefig(\"output/bar.png\")\n",
      "!ls -al output"
     ],
     "language": "python",
     "metadata": {},
     "outputs": [
      {
       "output_type": "stream",
       "stream": "stdout",
       "text": [
        "total 16\r\n",
        "drwxr-xr-x   4 tompollard  staff   136 24 Mar 12:06 \u001b[34m.\u001b[m\u001b[m\r\n",
        "drwxr-xr-x  10 tompollard  staff   340 24 Mar 12:08 \u001b[34m..\u001b[m\u001b[m\r\n",
        "-rw-r--r--   1 tompollard  staff  1205 24 Mar 12:08 bar.png\r\n",
        "-rw-r--r--   1 tompollard  staff   101 24 Mar 11:17 wordcount.txt\r\n"
       ]
      },
      {
       "metadata": {},
       "output_type": "display_data",
       "text": [
        "<matplotlib.figure.Figure at 0x10d4cb450>"
       ]
      }
     ],
     "prompt_number": 130
    }
   ],
   "metadata": {}
  }
 ]
}